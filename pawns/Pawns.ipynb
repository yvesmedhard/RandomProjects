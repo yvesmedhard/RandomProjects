{
 "cells": [
  {
   "cell_type": "markdown",
   "metadata": {},
   "source": [
    "# Jogo dos peões\n",
    "\n",
    "## Descrição (versão desafio)\n",
    "\n",
    "Usando apenas 5 colunas de um tabuleiro de Xadrez, 5 peões pretos e 5 peões brancos, dois jogadores movimentam esses peões alternadamente até que um deles consiga colocar os seus peões nas casas inicialmente ocupadas pelos peões do adversário. Eis a posição inicial do tabuleiro:\n",
    "\n",
    "![Posição inicial.](game01.png)\n",
    "\n",
    "Cada jogador, na sua vez, pode mover apenas um peão e este deve permanecer na mesma coluna. Só são permitidas jogadas em que o peão movimentado avança em direção ao campo do adversário. Um peão pode avançar um número arbitrário de casas livres. Se, no momento da jogada, ele estiver sendo bloqueado pelo peão do adversário, então ele pode \"pular\", mas deve parar na casa livre logo em seguida. \n",
    "\n",
    "Pode acontecer que um jogador fique sem movimentos válidos na sua vez de jogar. Nesse caso, ele é obrigado a \"passar\" a vez para o adversário."
   ]
  },
  {
   "cell_type": "markdown",
   "metadata": {},
   "source": [
    "## Tarefa\n",
    "\n",
    "Sua tarefa é fazer um _bot_ capaz de jogar este jogo, ou seja, você deve fazer um jogador virtual que seja capaz de ganhar o jogo dos peões sempre que existir uma estratégia vencedora. "
   ]
  },
  {
   "cell_type": "markdown",
   "metadata": {},
   "source": [
    "## Conceitos abordados\n",
    "\n",
    "A resolução deste problema envolve conhecimentos de combinatória, teoria dos grafos, estrutura de dados, recursão, simetrias, e o conceito de pré-processamento. \n",
    "\n",
    "### Combinatória\n",
    "\n",
    "Em primeiro lugar, para estimar o número de estados desse jogo, é necessário conhecer o princípio fundamental da contagem. \n",
    "\n",
    "### Teoria de grafos\n",
    "\n",
    "De cada uma das possíveis configurações do jogo, e dependendo de quem é a vez de jogar, é possível efetuar um conjunto de movimentos válidos que pode ser vazio. Portanto, é natural modelar o jogo como um grafo dirido, onde os vértices do grafo são todas as possíveis configurações do tabuleiro e os arcos desse grafo possuem duas cores: os arcos brancos representam os movimentos válidos para o jogador dos peões brancos e os arcos pretos têm função análoga. \n",
    "\n",
    "### Estruturas de dados, simetrias, pré-processamentos\n",
    "\n",
    "O problema de se encontrar uma estratégia vencedora não é trivial por causa do tamanho do espaço de estados e, portanto, não se pode representar o grafo todo na memória RAM. O problema se agrava, por exemplo, se o jogo estiver sendo implementado para rodar em dispositivos móveis (e.g. celular). Uma solução para esse problema é explorar as simetrias do jogo para encontrar uma estrutura de dados, capaz de representar esse grafo, e que seja econômica do ponto de vista de memória. \n",
    "\n",
    "A eficiência do cálculo da estratégia ótima pode ser aumentada com o uso de tabelas pré-computadas com os valores de funções que são muito usadas.  \n",
    "\n",
    "### Recursão \n",
    "\n",
    "O algoritmo que encontra a estratégia vencedora (e o jogador que a possui) é essencialmente uma busca em profundidade e, portanto, possui natureza recursiva."
   ]
  },
  {
   "cell_type": "markdown",
   "metadata": {},
   "source": [
    "# Versão simplificada\n",
    "\n",
    "Para facilitar o entendimento da solução do problema, vamos detalhar a solução de uma versão simplificada do problema, usando apenas 3 colunas do tabuleiro e supondo que o número de linhas é 5. Veja a figura abaixo com a posição inicial do jogo simplificado.\n",
    "\n",
    "![Versão simplificada](simples.png)\n",
    "\n",
    "Vamos chamar os jogadores de 0 e 1 e vamos supor que o jogador 0 controla os peões brancos e que o jogador 1 controla os peões pretos."
   ]
  },
  {
   "cell_type": "markdown",
   "metadata": {},
   "source": [
    "## Configurações e estados\n",
    "\n",
    "Vamos usar a palavra _configuração_ para denotar a posição das peças no tabuleiro (ou em uma coluna). Vamos usar a palavra estado para denotar, além da configuração, a vez da jogada. Portanto, para cada configuração, existem dois estados possíveis: um em que a vez da jogada é do jogador 0 e outro em que a vez da jogada é do jogador 1.\n",
    "\n",
    "### Contando configurações e estados\n",
    "\n",
    "Em cada coluna, o peão preto pode estar em qualquer das 5 casas. Uma vez que o peão preto ocupa uma dessas casas, o peão branco pode estar em uma das 4 casas restantes. Portanto são 20 configurações possíveis para cada coluna. Como o tabuleiro possui 3 colunas, são $20^3$ possíveis configurações do tabuleiro no total. \n",
    "\n",
    "Além dessas 8000 configurações do tabuleiro, pode ser a vez dos peões brancos se moverem ou pode ser a vez dos peões pretos se moverem. Portanto o jogo possui 16000 estados. _Na verdade, nem todos esses estados são atingíveis durante um jogo. Você consegue dar exemplos de estados inatingíveis?_"
   ]
  },
  {
   "cell_type": "code",
   "execution_count": null,
   "metadata": {},
   "outputs": [],
   "source": [
    "# número de estados do jogo:\n",
    "2 * 20**3"
   ]
  },
  {
   "cell_type": "markdown",
   "metadata": {},
   "source": [
    "### Configurações de uma única coluna\n",
    "\n",
    "Nesta seção, vamos enumerar as 20 possíveis configurações de uma coluna. Cada uma dessas configurações receberá um identificador único que é um inteiro variando de 0 a 19. Veja as funções abaixo e entenda o que elas fazem e por que elas funcionam."
   ]
  },
  {
   "cell_type": "code",
   "execution_count": 3,
   "metadata": {},
   "outputs": [
    {
     "name": "stdout",
     "output_type": "stream",
     "text": [
      "BP...: 0\n",
      "B.P..: 1\n",
      "B..P.: 2\n",
      "B...P: 3\n",
      "PB...: 4\n",
      ".BP..: 5\n",
      ".B.P.: 6\n",
      ".B..P: 7\n",
      "P.B..: 8\n",
      ".PB..: 9\n",
      "..BP.: 10\n",
      "..B.P: 11\n",
      "P..B.: 12\n",
      ".P.B.: 13\n",
      "..PB.: 14\n",
      "...BP: 15\n",
      "P...B: 16\n",
      ".P..B: 17\n",
      "..P.B: 18\n",
      "...PB: 19\n"
     ]
    }
   ],
   "source": [
    "# p é o índice da casa ocupada pelo peão preto \n",
    "# b é o índice da casa ocupada pelo peão branco\n",
    "def imprime_coluna(b, p):\n",
    "    for i in range(5):\n",
    "        if p == i:\n",
    "            print(\"P\", end=\"\")\n",
    "        elif b == i:\n",
    "            print(\"B\", end=\"\")\n",
    "        else:\n",
    "            print(\".\", end=\"\")      \n",
    "            \n",
    "def enumera_configs_coluna():\n",
    "    id = 0\n",
    "    for b in range(5):\n",
    "        for p in range(5):\n",
    "            if b != p:\n",
    "                imprime_coluna(b, p)\n",
    "                print(\":\", id)\n",
    "                id += 1                \n",
    "\n",
    "enumera_configs_coluna()"
   ]
  },
  {
   "cell_type": "markdown",
   "metadata": {},
   "source": [
    "Durante a execução do programa vamos precisar computar o seguinte. Dado um índice $0 \\leq id < 20$ de uma configuração, precisaremos saber qual a posição do peão preto (e também do branco) na configuração $id$. Como vamos precisar disso muitas vezes, podemos pré-computar essas posições no início do programa e guardá-las na memória, nos vetores `pos[0]` e `pos[1]`. \n",
    "\n",
    "* `pos[0][id]` é o índice da casa ocupada pelo peão branco numa coluna de configuração _id_;\n",
    "* `pos[1][id]` é o índice da casa ocupada pelo peão preto numa coluna de configuração _id_.\n",
    "\n",
    "Veja como a estrutura da função `gerar_vetores_posicao_coluna()` é muito parecida com a estrutura da função `enumera_config_coluna()`."
   ]
  },
  {
   "cell_type": "code",
   "execution_count": 4,
   "metadata": {},
   "outputs": [],
   "source": [
    "pos = [list(range(20)), list(range(20))]\n",
    "\n",
    "def gerar_vetores_posicao_coluna():\n",
    "    id = 0\n",
    "    for b in range(5):\n",
    "        for p in range(5):\n",
    "            if b != p:\n",
    "                pos[0][id] = b\n",
    "                pos[1][id] = p\n",
    "                id += 1                \n",
    "\n",
    "gerar_vetores_posicao_coluna()"
   ]
  },
  {
   "cell_type": "markdown",
   "metadata": {},
   "source": [
    "Para ver como ficaram preenchidos os vetores `pos[0]` e `pos[1]` podemos fazer:"
   ]
  },
  {
   "cell_type": "code",
   "execution_count": 5,
   "metadata": {},
   "outputs": [
    {
     "data": {
      "text/plain": [
       "[0, 0, 0, 0, 1, 1, 1, 1, 2, 2, 2, 2, 3, 3, 3, 3, 4, 4, 4, 4]"
      ]
     },
     "execution_count": 5,
     "metadata": {},
     "output_type": "execute_result"
    }
   ],
   "source": [
    "pos[0]"
   ]
  },
  {
   "cell_type": "code",
   "execution_count": 6,
   "metadata": {},
   "outputs": [
    {
     "data": {
      "text/plain": [
       "[1, 2, 3, 4, 0, 2, 3, 4, 0, 1, 3, 4, 0, 1, 2, 4, 0, 1, 2, 3]"
      ]
     },
     "execution_count": 6,
     "metadata": {},
     "output_type": "execute_result"
    }
   ],
   "source": [
    "pos[1]"
   ]
  },
  {
   "cell_type": "markdown",
   "metadata": {},
   "source": [
    "Os valores impressos batem com o que você estava esperando? "
   ]
  },
  {
   "cell_type": "markdown",
   "metadata": {},
   "source": [
    "Veja que `pos[1][6] = 3` por que a configuração associada com o _id_ 6 é `.B.P.` e, nessa configuração, o peão preto ocupa a posição de índice 3 (i.e. a 4ª posição da esquerda para a direita). Um argumento semelhante justifica por que `pos[0][6] = 1`."
   ]
  },
  {
   "cell_type": "markdown",
   "metadata": {},
   "source": [
    "Também será conveniente manter uma tabela `oid[b][p]` que guarda, para cada posição $0 \\leq b < 5$ e $0 \\leq p < 5$ o _id_ da configuração que possui o peão preto na casa $p$ e o peão branco na casa $b$."
   ]
  },
  {
   "cell_type": "code",
   "execution_count": 7,
   "metadata": {},
   "outputs": [],
   "source": [
    "oid = [[-1 for i in range(5)] for j in range(5)]\n",
    "\n",
    "def preenche_oid():\n",
    "    for id in range(20):\n",
    "        oid[pos[0][id]][pos[1][id]] = id\n",
    "        \n",
    "preenche_oid()"
   ]
  },
  {
   "cell_type": "markdown",
   "metadata": {},
   "source": [
    "###  Configurações do tabuleiro (três colunas)\n",
    "\n",
    "Até agora nos preocupamos apenas com uma coluna do tabuleiro, mas ele possui 3 colunas! Precisamos, portanto, dar um jeito de indexar todas as possíveis configurações do tabuleiro. Como cada coluna tem 20 configurações possíveis, serão $20 \\times 20 \\times 20 = 8000$ configurações no total. Precisamos associar a cada uma delas um _ID_ de 0 a 7999."
   ]
  },
  {
   "cell_type": "markdown",
   "metadata": {},
   "source": [
    "Podemos usar \"base 20\" para representar as configurações. Por exemplo, se a primeira coluna estiver na confuguração `...BP` (_id_ 15), a segunda coluna estiver em `.PB..` (_id_ 9) e a terceira, em `B..P.` (_id_ 2), então o _ID_ dessa configuração do tabuleiro será \n",
    "\n",
    "$$ {20}^0 \\times {\\color{red}{15}} + {20}^1 \\times {\\color{red}{9}} + {20}^2 \\times {\\color{red}{2}} $$\n",
    "\n",
    "o que resulta em 995 (em base 10). "
   ]
  },
  {
   "cell_type": "code",
   "execution_count": 8,
   "metadata": {},
   "outputs": [
    {
     "data": {
      "text/plain": [
       "995"
      ]
     },
     "execution_count": 8,
     "metadata": {},
     "output_type": "execute_result"
    }
   ],
   "source": [
    "# conferindo:\n",
    "15 + 20 * 9 + 20**2 * 2"
   ]
  },
  {
   "cell_type": "markdown",
   "metadata": {},
   "source": [
    "É uma boa idéia criarmos funções de conversão que mapeiam 3 _ids_ de colunas para um _ID_ do tabuleiro e vice versa."
   ]
  },
  {
   "cell_type": "code",
   "execution_count": 9,
   "metadata": {},
   "outputs": [],
   "source": [
    "# Recebe os ids das configurações das colunas 0, 1 e 2 e \n",
    "# calcula o ID correspondente da configuração do tabuleiro\n",
    "def get_ID(id0, id1, id2):\n",
    "    return 400 * id2 + 20 * id1 + id0\n",
    "\n",
    "# Recebe o ID da confugração do tabuleiro e extrai o id da \n",
    "# coluna col (onde 0 <= col < 3)\n",
    "def get_col_id(ID, col):\n",
    "    while col > 0:\n",
    "        ID = ID // 20\n",
    "        col = col - 1\n",
    "    return ID % 20"
   ]
  },
  {
   "cell_type": "markdown",
   "metadata": {},
   "source": [
    "Vamos pré-computar os valores da segunda função. Você saberia dizer se vale a pena pré-computar os valores da primeira função? Por que?"
   ]
  },
  {
   "cell_type": "code",
   "execution_count": 10,
   "metadata": {},
   "outputs": [],
   "source": [
    "# Pré-computando todos os possíveis valores da segunda função...\n",
    "col_id = [[get_col_id(ID, col) for col in range(3)] for ID in range(8000)]"
   ]
  },
  {
   "cell_type": "markdown",
   "metadata": {},
   "source": [
    "Para quem não está acostumado com a sintaxe de Python, o código acima é um exemplo de _list comprehension_ e equivale ao seguinte código:"
   ]
  },
  {
   "cell_type": "code",
   "execution_count": 11,
   "metadata": {},
   "outputs": [],
   "source": [
    "for ID in range(8000):\n",
    "    for col in range(3):\n",
    "        col_id[ID][col] = get_col_id(ID, col)"
   ]
  },
  {
   "cell_type": "markdown",
   "metadata": {},
   "source": [
    "Para usar esses valores pré-computados basta acessar `col_id[ID][col]`, que guarda exatamente o mesmo valor que o resultado da chamada `get_col_id(ID, col)`.\n",
    "\n",
    "Um jeito um pouco mais rápido de preencher a tabela `col_id` é o seguinte:"
   ]
  },
  {
   "cell_type": "code",
   "execution_count": 12,
   "metadata": {},
   "outputs": [],
   "source": [
    "col_id = [[-1 for col in range(3)] for ID in range(8000)]\n",
    "\n",
    "for i in range(20):\n",
    "    for j in range(20):\n",
    "        for k in range(20):\n",
    "            ID = get_ID(i, j, k) # mais rápido ainda: 400*k + 20*j + i\n",
    "            col_id[ID][0] = i\n",
    "            col_id[ID][1] = j\n",
    "            col_id[ID][2] = k"
   ]
  },
  {
   "cell_type": "markdown",
   "metadata": {},
   "source": [
    "Porque não tabelamos a função `get_ID()`? \n",
    "\n",
    "Em C, por exemplo, a expressão `M[i][j][k]` é traduzida para `*(*(*(M + i) + j + k)` o que envolve 3 somas e 3 derreferenciações. Em outras linguagens, o acesso a matrizes tridimensionais não é muito diferente. Portanto, acessar uma tabela tridimensional ou fazer as contas dentro da função `get_ID()` custa quase a mesma coisa (exceto o _overhead_ de se chamar a função)."
   ]
  },
  {
   "cell_type": "markdown",
   "metadata": {},
   "source": [
    "### Configuração inicial\n",
    "\n",
    "Vamos fixar `B...P` (_id_ 3) como sendo a configuração inicial de uma coluna. Portanto, a configuração inicial do jogo é o ID retornado por `get_ID(3,3,3)`. Isso significa que os peões pretos só podem se mover para casas de índice menor do que o atual. De maneira simétrica, peões brancos só podem se mover para casas de índice maior. "
   ]
  },
  {
   "cell_type": "code",
   "execution_count": 13,
   "metadata": {},
   "outputs": [
    {
     "data": {
      "text/plain": [
       "1263"
      ]
     },
     "execution_count": 13,
     "metadata": {},
     "output_type": "execute_result"
    }
   ],
   "source": [
    "get_ID(3,3,3)"
   ]
  },
  {
   "cell_type": "markdown",
   "metadata": {},
   "source": [
    "### Configurações terminais (fim de jogo)\n",
    "\n",
    "Quando olhamos para uma coluna individualmente, qualquer configuração de coluna pode ocorrer antes do jogo terminar. Contudo, quando olhamos para o tabuleiro todo, algumas configurações só ocorrem no fim do jogo: são aquelas em que os peões de uma determinada cor preenchem as casas originalmente ocupadas pelos peões do oponente.\n",
    "\n",
    "A função a seguir identifica se uma configuração é temrinal e retorna informação suficiente para saber qual jogador completou o jogo. "
   ]
  },
  {
   "cell_type": "code",
   "execution_count": 14,
   "metadata": {},
   "outputs": [],
   "source": [
    "def terminal(ID):\n",
    "    ganhou0 = 0\n",
    "    ganhou1 = 0\n",
    "    v = [col_id[ID][i] for i in range(3)]\n",
    "    # jogador 0 já ganhou\n",
    "    if pos[1][3] == pos[0][v[0]] and \\\n",
    "       pos[1][3] == pos[0][v[1]] and \\\n",
    "       pos[1][3] == pos[0][v[2]]:\n",
    "        ganhou0 = 1\n",
    "    # jogador 1 já ganhou\n",
    "    if pos[1][v[0]] == pos[0][3] and \\\n",
    "       pos[1][v[1]] == pos[0][3] and \\\n",
    "       pos[1][v[2]] == pos[0][3]:\n",
    "        ganhou1 = 1\n",
    "    return ganhou0 + 2 * ganhou1\n",
    "    "
   ]
  },
  {
   "cell_type": "markdown",
   "metadata": {},
   "source": [
    "Note que a função `terminal()` devolve 0, 1, 2 ou 3 (em binário 00, 01, 10, 11). O primeiro bit (bit menos significativo) é 0 ou 1 dependendo do jogador 0 (peões brancos) ter atingido a posição desejada ou não. O segundo bit dá a informação correspondente ao jogador 1 (peões pretos). \n",
    "\n",
    "Qual a configuração para a qual `terminal()` devolve 3?"
   ]
  },
  {
   "cell_type": "markdown",
   "metadata": {},
   "source": [
    "### Imprimindo uma configuração do tabuleiro"
   ]
  },
  {
   "cell_type": "code",
   "execution_count": 15,
   "metadata": {},
   "outputs": [],
   "source": [
    "def imprime_config_coluna(id): \n",
    "    imprime_coluna(pos[0][id], pos[1][id])\n",
    "\n",
    "def imprime_config(ID):\n",
    "    for i in range(3):\n",
    "        id = col_id[ID][i]\n",
    "        imprime_config_coluna(id)\n",
    "        print()\n",
    "    print()\n"
   ]
  },
  {
   "cell_type": "markdown",
   "metadata": {},
   "source": [
    "## O grafo de movimentos válidos\n",
    "\n",
    "### Movimentos válidos em 1 coluna\n",
    "\n",
    "Na vez de cada jogador, ele escolhe uma coluna e move seu peão. Portanto, para cada possível configuração de uma coluna, e para cada jogador, existe uma lista de movimentos válidos. Vamos representar o grafo de movimentos válidos de cada jogador por um vetor de listas. \n",
    "\n",
    "* `grafo_coluna[0][id]` é a lista de configurações que podem ser atingidas a partir da configuração _id_ através de 1 movimento válido do peão branco.\n",
    "* `grafo_coluna[1][id]` é a lista de configurações que podem ser atingidas a partir da configuração _id_ através de 1 movimento válido do peão preto.\n",
    "\n",
    "A função a seguir recebe o _id_ de uma configuração de uma coluna, e calcula a lista dos _ids_ das configurações que o jogador 0 (que controla os peões brancos) consegue atingir com um único movimento válido de seu peão."
   ]
  },
  {
   "cell_type": "code",
   "execution_count": 16,
   "metadata": {},
   "outputs": [],
   "source": [
    "def movimentos_validos_coluna_0(id):\n",
    "    b = pos[0][id]\n",
    "    p = pos[1][id]\n",
    "    if b == 4:\n",
    "        # o branco já chegou no final\n",
    "        return []\n",
    "    if b == 3 and p == 4:\n",
    "        # aqui o branco está na penúltima casa, mas \n",
    "        # não pode se mover porque o preto está na última casa\n",
    "        return []\n",
    "    if p == b + 1:\n",
    "        # o branco só pode \"pular\" o preto e parar \n",
    "        # na casa imediatamente após o preto\n",
    "        return [oid[b + 2][p]]\n",
    "    \n",
    "    # Se nenhuma das condições anteriores foi satisfeita, então o peão \n",
    "    # branco pode se mover para qualquer casa entre ele até peão preto ou \n",
    "    # até o fim da linha no caso dele já ter ultrapassado o peão preto.\n",
    "    validos = []\n",
    "    limite = 5 if p < b else p\n",
    "    \n",
    "    for i in range(b + 1, limite):\n",
    "        validos.append(oid[i][p])\n",
    "    return validos\n",
    "\n",
    "grafo_coluna = [[], []]\n",
    "grafo_coluna[0] = [movimentos_validos_coluna_0(id) for id in range(20)]"
   ]
  },
  {
   "cell_type": "markdown",
   "metadata": {},
   "source": [
    "Para calcular a lista dos movimentos válidos do peão preto, não é necessário reescrever a função. Basta fazermos uma função que inverte preto/branco e esquerda/direita, usar os movimentos válidos já calculados para o peão branco e inverter de volta em cada possível configuração da lista obtida."
   ]
  },
  {
   "cell_type": "code",
   "execution_count": 17,
   "metadata": {},
   "outputs": [],
   "source": [
    "def inverte(id):\n",
    "    b = pos[0][id]\n",
    "    p = pos[1][id]\n",
    "    return oid[4 - p][4 - b]"
   ]
  },
  {
   "cell_type": "markdown",
   "metadata": {},
   "source": [
    "A conta `4 - x` serve como um espelho com relação a esquerda e direita. Por exemplo, ao chamarmos a função `inverte()` na configuração `B.P..` (_id_ 1), o valor de retorno consiste na sequencia espelhada obtida após trocarmos P e B de lugar:\n",
    "\n",
    "    config original:    B.P..\n",
    "     trocando P e B:    P.B..\n",
    "         espelhando:    ..B.P\n",
    "    \n",
    "Portanto, `inverte(1) = 11`."
   ]
  },
  {
   "cell_type": "markdown",
   "metadata": {},
   "source": [
    "Estamos prontos para calcular as listas de movimentos válidos do peão preto. Veja abaixo:"
   ]
  },
  {
   "cell_type": "code",
   "execution_count": 18,
   "metadata": {},
   "outputs": [],
   "source": [
    "grafo_coluna[1] = [[inverte(j) for j in grafo_coluna[0][inverte(id)]] \\\n",
    "                   for id in range(20)]"
   ]
  },
  {
   "cell_type": "markdown",
   "metadata": {},
   "source": [
    "Podemos verificar se, de fato, `grafo_coluna[0][id]` (resp. `grafo_coluna[1][id]`) guarda os movimentos válidos do peão branco (resp. preto) a partir da configuração _id_."
   ]
  },
  {
   "cell_type": "code",
   "execution_count": 19,
   "metadata": {},
   "outputs": [
    {
     "name": "stdout",
     "output_type": "stream",
     "text": [
      "Movimentos válidos do peão branco:\n",
      "BP...: .PB..  \n",
      "B.P..: .BP..  \n",
      "B..P.: .B.P.  ..BP.  \n",
      "B...P: .B..P  ..B.P  ...BP  \n",
      "PB...: P.B..  P..B.  P...B  \n",
      ".BP..: ..PB.  \n",
      ".B.P.: ..BP.  \n",
      ".B..P: ..B.P  ...BP  \n",
      "P.B..: P..B.  P...B  \n",
      ".PB..: .P.B.  .P..B  \n",
      "..BP.: ...PB  \n",
      "..B.P: ...BP  \n",
      "P..B.: P...B  \n",
      ".P.B.: .P..B  \n",
      "..PB.: ..P.B  \n",
      "...BP: \n",
      "P...B: \n",
      ".P..B: \n",
      "..P.B: \n",
      "...PB: \n"
     ]
    }
   ],
   "source": [
    "print('Movimentos válidos do peão branco:')\n",
    "for id in range(20):\n",
    "    imprime_config_coluna(id)\n",
    "    print(\": \", end=\"\")\n",
    "    for j in grafo_coluna[0][id]:\n",
    "        imprime_config_coluna(j)\n",
    "        print(\"  \", end=\"\")\n",
    "    print()"
   ]
  },
  {
   "cell_type": "code",
   "execution_count": 20,
   "metadata": {},
   "outputs": [
    {
     "name": "stdout",
     "output_type": "stream",
     "text": [
      "Movimentos válidos do peão preto:\n",
      "BP...: \n",
      "B.P..: BP...  \n",
      "B..P.: B.P..  BP...  \n",
      "B...P: B..P.  B.P..  BP...  \n",
      "PB...: \n",
      ".BP..: PB...  \n",
      ".B.P.: .BP..  \n",
      ".B..P: .B.P.  .BP..  \n",
      "P.B..: \n",
      ".PB..: P.B..  \n",
      "..BP.: .PB..  \n",
      "..B.P: ..BP.  \n",
      "P..B.: \n",
      ".P.B.: P..B.  \n",
      "..PB.: .P.B.  P..B.  \n",
      "...BP: ..PB.  \n",
      "P...B: \n",
      ".P..B: P...B  \n",
      "..P.B: .P..B  P...B  \n",
      "...PB: ..P.B  .P..B  P...B  \n"
     ]
    }
   ],
   "source": [
    "print('Movimentos válidos do peão preto:')\n",
    "for id in range(20):\n",
    "    imprime_config_coluna(id)\n",
    "    print(\": \", end=\"\")\n",
    "    for j in grafo_coluna[1][id]:\n",
    "        imprime_config_coluna(j)\n",
    "        print(\"  \", end=\"\")\n",
    "    print()"
   ]
  },
  {
   "cell_type": "markdown",
   "metadata": {},
   "source": [
    "### O grafo de movimentos válidos (3 colunas)\n",
    "\n",
    "Baseando-nos no grafo de movimentos em uma única coluna, somos capazes de gerar o grafo de movimentos válidos do jogo todo. Suponha que $\\vec{G} = (V, E)$ seja o grafo dirigido dos movimentos válidos para um determinado jogador em uma coluna. O grafo de movimentos válidos para o mesmo jogador no tabuleiro todo é isomorfo ao grafo $\\vec{H} = (V_H, E_H)$, definido a seguir. Primeiramente, definimos $V_H$ como\n",
    "\n",
    "$$V_H = V^3.$$\n",
    "\n",
    "Portanto, um vértice $v \\in V_H$ possui as coordenadas $v_1, v_2$ e $v_3$ que correspondem às configurações de cada coluna. Esse vértice corresponde à uma configuração do tabuleiro todo (3 colunas). Depois, definimos $T \\subseteq V_H$ como sendo o conjunto de estados terminais do jogo. Em seguida, definimos o conjunto de arcos desse grafo dirigido como \n",
    "\n",
    "$$\n",
    "E_H = \\big\\{(u, v) \\in (V_H \\setminus T) \\times V_H \\colon \\exists\\,i\\in\\{1,2,3\\}\\; \\big((u_i, v_i) \\in E \\wedge (\\forall\\,j\\in\\{1,2,3\\}, j\\neq i \\implies u_j = v_j)\\big)\\big\\},\n",
    "$$\n",
    "\n",
    "ou seja, uma configuração $(u_1, u_2, u_3)$ pode ser levada à configuração $(v_1, v_2, v_3)$ através de um movimento válido desse jogador se duas das coordenadas se mantiverem iguais e uma terceira for alterada de acordo com o grafo de movimentos válidos de uma coluna (i.e. de acordo com os arcos do grafo $\\vec{G}$). Afinal, o jogador só pode mover um peão por vez. A condição $u \\not\\in T$ traduz o fato de que nenhuma jogada pode ser feita depois que o jogo atingiu um estado terminal.\n"
   ]
  },
  {
   "cell_type": "markdown",
   "metadata": {},
   "source": [
    "### Representação do grafo na memória"
   ]
  },
  {
   "cell_type": "markdown",
   "metadata": {},
   "source": [
    "#### Matriz de adjacência.\n",
    "\n",
    "Uma maneira ingênua de representar esse grafo seria alocar uma matriz $M$ de dimensões $8000 \\times 8000$, onde $M_{ij}$ vale $1$ se $i \\rightarrow j$ é um movimento válido e $0$ caso contrário.\n",
    "\n",
    "Essa representação ocuparia 16Mb de memória (ou 2Mb se comprimíssemos a representação usando um bit por entrada da matriz). Mas, pior do que isso, seria o fato de que, para percorrer a lista de configurações acessíveis (por movimentos válidos) a partir de uma configuração $i$, precisaríamos percorrer a $i$-ésima linha da matriz que tem $8000$ entradas: muito ruim, dado que o número máximo de vizinhos de um vértice (configurações atingíveis por 1 movimento válido) é 9. \n",
    "\n",
    "Pelos motivos elencados acima, não é viável utilizar uma matriz de adjacência.\n",
    "\n",
    "#### Listas de adjacência\n",
    "\n",
    "Um outro jeito de armazenar o grafo na memória é através do uso de listas de adjacências. Essa estrutura de dados consiste em armazenar, para cada vértice do grafo, uma lista dos seus vizinhos. Lambre-se de que já usamos esta estrutura de dado para representar um grafo, por exemplo, quando criamos o vetor `grafo_coluna[0]` que armazena o grafo de movimentos válidos do jogador 0 em uma única coluna.\n",
    "\n",
    "Como são 8000 configurações indexadas de 0 a 7999, vamos precisar de pelo menos $\\lceil \\log_2{8000} \\rceil$ bits para representar o ID de uma configuração. "
   ]
  },
  {
   "cell_type": "code",
   "execution_count": 21,
   "metadata": {},
   "outputs": [
    {
     "data": {
      "text/plain": [
       "13"
      ]
     },
     "execution_count": 21,
     "metadata": {},
     "output_type": "execute_result"
    }
   ],
   "source": [
    "from math import log, ceil\n",
    "\n",
    "ceil(log(8000, 2))"
   ]
  },
  {
   "cell_type": "markdown",
   "metadata": {},
   "source": [
    "Arredondando esse número para um múltiplo de 8, precisamos de 16 bits (2 bytes) para representar uma configuração na memória. \n",
    "\n",
    "Para cada uma dessas 8000 configurações, precisamos armazenar uma lista das configurações vizinhas nesse grafo. São 3 vizinhos, no máximo, para cada coluna (confira na a tabela que enumera as configurações de uma coluna). Portanto, são 9 estados vizinhos, no máximo, para cada uma das 8000 configurações do tabuleiro. \n",
    "\n",
    "Podemos então armazenar um vetor com $8000$ entradas, cada uma sendo uma lista com no máximo $9$ elementos com 16 bits cada. Na $j$-ésima posição da $i$-ésima lista estaria armazenado o _ID_ do $j$-ésimo vizinho da configuração com _ID_ $i$. \n",
    "\n",
    "Essa representação ocupa, no máximo, 144Kb conforme a conta abaixo."
   ]
  },
  {
   "cell_type": "code",
   "execution_count": 22,
   "metadata": {},
   "outputs": [
    {
     "data": {
      "text/plain": [
       "144000"
      ]
     },
     "execution_count": 22,
     "metadata": {},
     "output_type": "execute_result"
    }
   ],
   "source": [
    "# número de bytes aproximadamente:\n",
    "8000 * 9 * 2"
   ]
  },
  {
   "cell_type": "code",
   "execution_count": 23,
   "metadata": {},
   "outputs": [],
   "source": [
    "def movimentos_validos_tabuleiro(ID, jogador):\n",
    "    if terminal(ID):\n",
    "        return []\n",
    "    v = col_id[ID]\n",
    "    resposta = []\n",
    "    for i in range(3):\n",
    "        u = v.copy()\n",
    "        for id in grafo_coluna[jogador][v[i]]:\n",
    "            u[i] = id\n",
    "            x = get_ID(*u)\n",
    "            resposta.append(x)\n",
    "    # Se não há jogadas válidas então \"passar a vez\" é válida!\n",
    "    if len(resposta) == 0:\n",
    "        resposta.append(ID)\n",
    "    return resposta\n",
    "        \n",
    "grafo_tabuleiro = [[], []]\n",
    "\n",
    "for jogador in range(2):\n",
    "    grafo_tabuleiro[jogador] = [movimentos_validos_tabuleiro(ID, jogador) \\\n",
    "                                for ID in range(8000)]"
   ]
  },
  {
   "cell_type": "markdown",
   "metadata": {},
   "source": [
    "Apesar dessa quantidade de memória ser bem inferior aos 16Mb que uma matriz de adjacência ocuparia, precisamos otimizar ainda mais o consumo de memória para que possamos implementar a solução do problema original (8 linhas $\\times$ 5 colunas) de forma eficiente em dispositivos com pouca memória (e.g. celular). Para tanto, precisamos explorar as simetrias do grafo (e portanto as simetrias do jogo), e é isso que faremos na próxima seção."
   ]
  },
  {
   "cell_type": "markdown",
   "metadata": {},
   "source": [
    "## Explorando simetrias\n",
    "\n",
    "**Observação:** se você está implementando a primeira versão do código e se não pretende implementar a versão do exercício que utiliza o tabuleiro 5x8, você pode pular essa seção e ir direto para a seção [O grafo de estados do jogo](#O-grafo-de-estados-do-jogo)\n",
    "\n",
    "Note que o jogo, tanto na versão original como na versão simplificada, consiste de várias colunas que são independentes. Por esse motivo, a ordem das colunas não interfere na existência de uma estratégia vencedora para um determindado jogador. Por exemplo, se o jogador que controla os peões pretos tem uma estratégia vencedora para a configuração da esquerda, então ele também tem uma estratégia vencedora para a configuração da direita.\n",
    "\n",
    "![Tabuleiros equivalentes.](equivalentes.png)\n",
    "\n",
    "No exemplo da figura acima, vamos chamar a configuração da esquerda de $v$ e a da direita de $w$. \n",
    "Temos que $v$ consiste de três _ids_ $v_1, v_2$ e $v_3$ (um para cada coluna). Do mesmo modo, $w = (w_1, w_2, w_3)$. Dizemos que $v$ e $w$ são configurações _equivalentes_ pois $w$ é uma permutação de $v$. Mais especificamente, $w = (v_3, v_1, v_2)$. \n",
    "\n",
    "Portanto, se a partir de uma configuração $u \\in V_H$ fosse possível ir para a configuração $v$, então poderíamos trocar $v$ por $w$ na lista dos vizinhos de $u$ sem essencialmente mudar o jogo. Isto é, essa troca não traria vantagens ou desvantagens para nenhum dos jogadores.\n",
    "\n",
    "É claro que essa mudança só pode ser feita internamente, na estrutura de dados que representa o grafo na memória, pois na interface gráfica com os usuários (jogadores), se um deles fizer o movimento $u \\rightarrow v$, a configuração resultantee que devemos exibir aos usuários ainda deve ser $v$ e não $w$, senão os jogadores ficariam confusos sobre o que está acontecendo no jogo."
   ]
  },
  {
   "cell_type": "markdown",
   "metadata": {},
   "source": [
    "### O grafo quociente (ou grafo reduzido)\n",
    "\n",
    "Nesta seção pretendemos dar os detalhes de como podemos usar o que foi dito anteriormente para economizar memória. Em primeiro lugar podemos dividir as configurações em \"grupos\" de configurações equivalentes e eleger um representante para cada grupo. Daí olhamos para o grafo projetado no conjunto de vértices representantes. \n",
    "\n",
    "\n",
    "#### Exemplo de grupo\n",
    "\n",
    "Por exemplo, se olharmos para a configuração 995 que é representada pela tripla\n",
    "\n",
    "$$(15, 9, 2)$$\n",
    "\n",
    "podemos listar facilmente as configurações no seu grupo:\n",
    "\n",
    "     995 (15, 9, 2) \n",
    "    3655 (15, 2, 9)\n",
    "    6049 (9, 2, 15)        \n",
    "    1109 (9, 15, 2)\n",
    "    3902 (2, 15, 9)\n",
    "    6182 (2, 9, 15)"
   ]
  },
  {
   "cell_type": "markdown",
   "metadata": {},
   "source": [
    "Já a configuração $(3, 3, 3)$, que é a configuração inicial do jogo, está sozinha no seu grupo pois qualquer permutação desse vetor é identica ao próprio vetor. \n",
    "\n",
    "![Grafo reduzido](reduced.png)"
   ]
  },
  {
   "cell_type": "markdown",
   "metadata": {},
   "source": [
    "#### Elegendo o representante de  cada grupo\n",
    "\n",
    "Devemos criar uma função $\\Phi$ que associa cada vértice $v \\in V_H$ ao representante do grupo que contém $v$.\n",
    "Um modo simples de fazer isso é tomar como representante a tripla dentro do grupo que está ordenada de maneira não-decrescente (ou, equivalentemente, a tripla lexicograficamente menor). Portanto, podemos definir $\\Phi \\colon V_H \\rightarrow V_H$ de modo que $\\Phi(v) = (v_{\\pi(1)}, v_{\\pi(2)}, v_{\\pi(3)})$, onde $\\pi \\colon \\{1,2,3\\} \\rightarrow \\{1,2,3\\}$ é uma permutação que satisfaz \n",
    "\n",
    "$$v_{\\pi(1)} \\leq v_{\\pi(2)} \\leq v_{\\pi(3)}.$$\n",
    "\n",
    "Podemos codificar a função `phi()` em Python da segunite maneira:"
   ]
  },
  {
   "cell_type": "code",
   "execution_count": null,
   "metadata": {},
   "outputs": [],
   "source": [
    "def phi(ID):\n",
    "    a = col_id[ID][0]\n",
    "    b = col_id[ID][1]\n",
    "    c = col_id[ID][2]\n",
    "    if a <= b:\n",
    "        if b <= c:\n",
    "            return ID\n",
    "        if a <= c:\n",
    "            return get_ID(a, c, b)\n",
    "        return get_ID(c, a, b)\n",
    "    if a <= c:\n",
    "        return get_ID(b, a, c)\n",
    "    if b <= c:\n",
    "        return get_ID(b, c, a)\n",
    "    return get_ID(c, b, a)    "
   ]
  },
  {
   "cell_type": "markdown",
   "metadata": {},
   "source": [
    "Podemos fazer uma função semelhante para obter a permutação $\\pi$:"
   ]
  },
  {
   "cell_type": "code",
   "execution_count": null,
   "metadata": {},
   "outputs": [],
   "source": [
    "def pi(ID):\n",
    "    a0 = col_id[ID][0]\n",
    "    a1 = col_id[ID][1]\n",
    "    a2 = col_id[ID][2]\n",
    "    rID = phi(ID)\n",
    "    b0 = col_id[rID][0]\n",
    "    b1 = col_id[rID][1]\n",
    "    b2 = col_id[rID][2]\n",
    "    if a0 == b0:\n",
    "        if a1 == b1:\n",
    "            return (0, 1, 2)\n",
    "        return (0, 2, 1)\n",
    "    elif a0 == b1: \n",
    "        if a1 == b0:\n",
    "            return (1, 0, 2)\n",
    "        return (2, 0, 1)\n",
    "    if a1 == b0:\n",
    "        return (1, 2, 0)\n",
    "    return (2, 1, 0)"
   ]
  },
  {
   "cell_type": "markdown",
   "metadata": {},
   "source": [
    "Se precisarmos calcular a permutação inversa:"
   ]
  },
  {
   "cell_type": "code",
   "execution_count": null,
   "metadata": {},
   "outputs": [],
   "source": [
    "def inv(p):\n",
    "    q = list(range(3))\n",
    "    for i in range(3):\n",
    "        q[p[i]] = i\n",
    "    return tuple(q)"
   ]
  },
  {
   "cell_type": "markdown",
   "metadata": {},
   "source": [
    "#### Grafo reduzido\n",
    "\n",
    "O grafo reduzido pode ser formalizado da seguinte forma. \n",
    "Seja $V_R = Img(\\Phi)$ o conjunto imagem da função $\\Phi$, isto é $V_R \\subseteq V_H$ é o conjunto de vértices que são representantes de algum grupo. O grafo reduzido é o grafo dirigido $\\vec{R} = (V_R, E_R)$, onde o conjunto de arcos é definido por\n",
    "\n",
    "$$E_R = \\{(\\Phi(u), \\Phi(v)) \\colon (u, v) \\in E_H\\}.$$\n",
    "\n",
    "Estamos prontos para armazenar o grafo reduzido de movimentos válidos na memória."
   ]
  },
  {
   "cell_type": "code",
   "execution_count": null,
   "metadata": {},
   "outputs": [],
   "source": [
    "# Lembre-se de que:\n",
    "#    * o jogador 0 controla os peões brancos,\n",
    "#    * o jogador 1 controla os peões pretos.\n",
    "\n",
    "representantes = {}\n",
    "\n",
    "for ID in range(8000):\n",
    "    if terminal(ID) == 0:\n",
    "        representantes[phi(ID)] = True\n",
    "\n",
    "# grafo_tabuleiro[i] -- armazena o grafo dos movimentos válidos do jogador i\n",
    "grafo_tabuleiro = [{}, {}]\n",
    "\n",
    "for ID in representantes.keys():\n",
    "    v = [col_id[ID][i] for i in range(3)]\n",
    "    for jogador in range(2):\n",
    "        grafo_tabuleiro[jogador][ID] = []\n",
    "        for i in range(3):\n",
    "            u = v.copy()\n",
    "            for id in grafo_coluna[jogador][v[i]]:\n",
    "                u[i] = id\n",
    "                x = phi(get_ID(*u))\n",
    "                if x not in grafo_tabuleiro[jogador][ID]:\n",
    "                    grafo_tabuleiro[jogador][ID].append(x)\n",
    "        # Verifica se é preciso permitir a jogada \"passar a vez\"\n",
    "        if len(grafo_tabuleiro[jogador][ID]) == 0:\n",
    "            grafo_tabuleiro[jogador][ID].append(ID)\n"
   ]
  },
  {
   "cell_type": "markdown",
   "metadata": {},
   "source": [
    "No trecho de código acima, a variável `representantes` é um dicionário. Em outras linguagens de programação, é possível implementar um dicionário usando uma árvore binária."
   ]
  },
  {
   "cell_type": "markdown",
   "metadata": {},
   "source": [
    "## O grafo de estados do jogo\n",
    "\n",
    "Agora que já sabemos como as configurações podem ser levadas umas às outras através de movimentos válidos dos peões pretos e brancos, vamos criar o grafo de estados que modela todos os aspectos do jogo: configuração do tabuleiro e vez da jogada.\n",
    "\n",
    "Lembre-se: um estado nada mais é do que uma configuração junto com a informação de qual é o jogador da vez."
   ]
  },
  {
   "cell_type": "code",
   "execution_count": 25,
   "metadata": {},
   "outputs": [],
   "source": [
    "grafo = {}\n",
    "\n",
    "# i varia no conjunto de jogadores {0, 1}\n",
    "for i in range(2):\n",
    "    # Se você implementou o grafo reduzido descrito na seção anterior,\n",
    "    # então use representantes.keys() no lugar de range(8000) a seguir\n",
    "    for x in range(8000): \n",
    "        grafo[(i, x)] = []\n",
    "        for y in grafo_tabuleiro[i][x]:\n",
    "            grafo[(i, x)].append((1 - i, y))            "
   ]
  },
  {
   "cell_type": "markdown",
   "metadata": {},
   "source": [
    "Para cada jogador $i$ e configuração $x$, armazena-se em `grafo[(i,x)]` a lista de estados atingíveis a partir do estado $(i,x)$ através de um único movimento válido executado pelo jogador $i$. "
   ]
  },
  {
   "cell_type": "markdown",
   "metadata": {},
   "source": [
    "## Encontrando uma estratégia vencedora\n",
    "\n",
    "Note que esse jogo, tanto na versão original como na versão simplificada, não admite empate. Portanto, um dos jogadores tem uma estratégia vencedora: ou é aquele que começa jogando ou é o segundo a jogar. \n",
    "\n",
    "Seja $\\vec{F}$ o grafo dirigido associado ao vetor de listas `grafo` construido no código acima. Note que, ainda que o grafo representado pelo vetor de listas `grafo_tabuleiro[i]` tenha ciclos (no caso os laços que modelam \"passar a vez\"), o grafo $\\vec{F}$ não tem nenhum circuito, e portanto é um grafo dirigido acíclico em que os nós sorvedouros são precisamente aqueles cuja configuração é terminal. \n",
    "\n",
    "Dizemos que o vértice $(i, x) \\in V(\\vec{F})$ possui uma estratégia vencedora se uma das duas condições abaixo estiverem satisfeitas:\n",
    "\n",
    "* se $x$ é uma configuração terminal onde o jogador $i$ já tenha ganhado e o jogador $1 - i$ não tenha ganhado, ou\n",
    "* se existe um vértice $(1 - i, y)$ que é vizinho de saída de $(i,x)$ (ou seja, que está na lista `grafo[(i,x)]`) e que não tenha uma estratégia vencedora.\n",
    "\n",
    "Para descobrir qual dos jogadores possui uma estratégia vencedora, vamos implementar o algoritmo recursivo que corresponde à definição indutiva de estratégia vencedora que foi dada acima. "
   ]
  },
  {
   "cell_type": "code",
   "execution_count": 52,
   "metadata": {},
   "outputs": [],
   "source": [
    "vencedor = {}\n",
    "\n",
    "# (i, x) not in vencedor.keys() means it was not visited\n",
    "# vencedor[(i, x)] = 1          means it is being visited\n",
    "# vencedor[(i, x)] = 2          means it has no winning strategy\n",
    "# vencedor[(i, x)] = 3          means it has a winning strategy\n",
    "\n",
    "def ganha(i, x):\n",
    "    # mark as visited:\n",
    "    vencedor[(i, x)] = 1\n",
    "    # no terminal node has a winning strategy:\n",
    "    if terminal(x): \n",
    "        vencedor[(i, x)] = 2\n",
    "        return\n",
    "    for j, y in grafo[(i, x)]:\n",
    "        # Se você implementou o grafo reduzido descrito na seção anterior,\n",
    "        # então use phi(y) no lugar de y até o final desta função.  \n",
    "        if not (j, y) in vencedor.keys(): ganha(j, y)\n",
    "        if vencedor[(j, y)] == 2:\n",
    "            vencedor[(i, x)] = 3\n",
    "    if vencedor[(i, x)] == 1:\n",
    "        vencedor[(i, x)] = 2"
   ]
  },
  {
   "cell_type": "markdown",
   "metadata": {},
   "source": [
    "Decide se existe uma estratégia vencedora para cada possível estado do jogo:"
   ]
  },
  {
   "cell_type": "code",
   "execution_count": 53,
   "metadata": {
    "scrolled": true
   },
   "outputs": [],
   "source": [
    "for i in range(2):\n",
    "    # Se você implementou o grafo reduzido descrito na seção anterior,\n",
    "    # então use representantes.keys() no lugar de range(8000) a seguir    \n",
    "    for K in range(8000):\n",
    "        if not (i, K) in vencedor.keys():\n",
    "            ganha(i, K)"
   ]
  },
  {
   "cell_type": "markdown",
   "metadata": {},
   "source": [
    "Se o jogador 0 começar o jogo, ele tem uma estratégia vencedora?"
   ]
  },
  {
   "cell_type": "code",
   "execution_count": 72,
   "metadata": {},
   "outputs": [
    {
     "data": {
      "text/plain": [
       "True"
      ]
     },
     "execution_count": 72,
     "metadata": {},
     "output_type": "execute_result"
    }
   ],
   "source": [
    "vencedor[(0, get_ID(3,3,3))] == 3"
   ]
  },
  {
   "cell_type": "markdown",
   "metadata": {},
   "source": [
    "Note que o outro jogador, se ele começar jogando, também tem estratégia vencedora:"
   ]
  },
  {
   "cell_type": "code",
   "execution_count": 73,
   "metadata": {},
   "outputs": [
    {
     "data": {
      "text/plain": [
       "True"
      ]
     },
     "execution_count": 73,
     "metadata": {},
     "output_type": "execute_result"
    }
   ],
   "source": [
    "vencedor[(1, get_ID(3,3,3))] == 3"
   ]
  },
  {
   "cell_type": "markdown",
   "metadata": {},
   "source": [
    "E que movimento o jogador 0 deve fazer no começo para <strike>ganhar</strike> não perder o jogo?\n",
    "\n",
    "Bom, a lista dos IDs vizinhos é:"
   ]
  },
  {
   "cell_type": "code",
   "execution_count": 74,
   "metadata": {},
   "outputs": [
    {
     "data": {
      "text/plain": [
       "[1267, 1271, 1275, 1343, 1423, 1503, 2863, 4463, 6063]"
      ]
     },
     "execution_count": 74,
     "metadata": {},
     "output_type": "execute_result"
    }
   ],
   "source": [
    "grafo_tabuleiro[0][get_ID(3,3,3)]"
   ]
  },
  {
   "cell_type": "code",
   "execution_count": 76,
   "metadata": {},
   "outputs": [
    {
     "name": "stdout",
     "output_type": "stream",
     "text": [
      "1271:\n",
      "..B.P\n",
      "B...P\n",
      "B...P\n",
      "\n",
      "1275:\n",
      "...BP\n",
      "B...P\n",
      "B...P\n",
      "\n",
      "1423:\n",
      "B...P\n",
      "..B.P\n",
      "B...P\n",
      "\n",
      "1503:\n",
      "B...P\n",
      "...BP\n",
      "B...P\n",
      "\n",
      "4463:\n",
      "B...P\n",
      "B...P\n",
      "..B.P\n",
      "\n",
      "6063:\n",
      "B...P\n",
      "B...P\n",
      "...BP\n",
      "\n"
     ]
    }
   ],
   "source": [
    "# Quais desses estados vizinhos é bom pro jogador 0?\n",
    "for x in grafo_tabuleiro[0][get_ID(3,3,3)]:\n",
    "    # Aqueles em que o jogador 1 perde!\n",
    "    if vencedor[(1, x)] == 2:\n",
    "        print(x, end=\":\\n\")\n",
    "        imprime_config(x)"
   ]
  },
  {
   "cell_type": "markdown",
   "metadata": {},
   "source": [
    "Portanto qualquer uma das configurações acima é uma boa jogada para o jogador 0. Por outro lado, se o jogador 0 começar indo pra configuração 2863, ele pode perder o jogo (supondo que o jogador 1 jogue perfeitamente depois disso). "
   ]
  },
  {
   "cell_type": "code",
   "execution_count": 77,
   "metadata": {},
   "outputs": [
    {
     "name": "stdout",
     "output_type": "stream",
     "text": [
      "B...P\n",
      "B...P\n",
      ".B..P\n",
      "\n"
     ]
    }
   ],
   "source": [
    "# Portando, seria uma jogada ruim para o jogador 0 fazer uma jogada que\n",
    "# levasse o tabuleiro à configuração 2863:\n",
    "imprime_config(2863)"
   ]
  },
  {
   "cell_type": "markdown",
   "metadata": {},
   "source": [
    "## De que um _bot_ precisa para ganhar?\n",
    "\n",
    "Para que um _bot_ seja capaz de jogar esse jogo perfeitamente, ele precisa conhecer a estratégia vencedora para cada estado em que ela existir.\n",
    "\n",
    "Portanto, para cada estado, ele deve conhecer qual a jogada a ser feita. \n",
    "\n",
    "Se você implementou o grafo reduzido: basta sabermos essa informação para aquelas configurações que são representantes de grupos; para outra configuração $x$, podemos ver como jogar a partir de $\\Phi(x)$ e depois usar a permutação inversa de $\\pi$ para converter a configuração resposta a uma jogada válida a partir de $x$."
   ]
  },
  {
   "cell_type": "code",
   "execution_count": 85,
   "metadata": {},
   "outputs": [],
   "source": [
    "import random as rd\n",
    "\n",
    "estrategia = [{}, {}]\n",
    "\n",
    "for jogador, x in vencedor.keys():\n",
    "    if terminal(x):\n",
    "        continue\n",
    "       \n",
    "    # Parecido com a movimentos_validos_tabuleiro\n",
    "    v = [col_id[x][i] for i in range(3)]\n",
    "    jogadas = []\n",
    "    for i in range(3):\n",
    "        u = v.copy()\n",
    "        for id in grafo_coluna[jogador][v[i]]:\n",
    "            u[i] = id\n",
    "            y = get_ID(*u) \n",
    "            jogadas.append(y)\n",
    "    # Verifica se é preciso \"passar a vez\":\n",
    "    if len(jogadas) == 0:\n",
    "        jogadas.append(x)\n",
    "        \n",
    "    # define estratégia padrão: jogar aleatóriamente\n",
    "    estrategia[jogador][x] = rd.choice(jogadas)\n",
    "    for y in jogadas:\n",
    "        # mas se uma das jogadas deixa o oponente em posição de derrota...\n",
    "        # Se você implementou o grafo reduzido, use phi(y) em vez de y\n",
    "        # somente na linha a seguir.\n",
    "        if vencedor[(1 - jogador, y)] == 2:\n",
    "            # troca a estratégia aleatória por essa jogada\n",
    "            estrategia[jogador][x] = y\n",
    "            break"
   ]
  },
  {
   "cell_type": "markdown",
   "metadata": {},
   "source": [
    "Repare que um pedaço desse código é bem parecido com aquele que calcula o grafo de movimentos válidos do tabuleiro `grafo_tabuleiro`. \n",
    "\n",
    "Nota também que, quando não há estratégia vencedora, usamos um movimento válido aleatório.\n",
    "\n",
    "Para quem implementou `grafo_tabuleiro` usando o grafo reduzido, a principal diferença está no fato de que, quando calculamos a lista de vizinhos de uma configuração, não estamos mais interessados nos representantes dos vizinhos, mas nos prórios vizinhos. Ou seja, `estrategia[jogador][x]` armazena o ID $y$ de uma configuração que é vizinha da configuração $x$. Isso é importante para podermos descobrir eficientemente qual jogada o _bot_ deve fazer em cada configuração. Se tivéssemos armazenado $\\Phi(y)$ em vez de $y$, ainda teríamos o trabalho adicional de descobrir qual coluna deve ser alterada."
   ]
  },
  {
   "cell_type": "code",
   "execution_count": null,
   "metadata": {},
   "outputs": [],
   "source": [
    "# Sinal + quer dizer ganhador \n",
    "#       - quer dizer perdedor\n",
    "print(len(estrategia[0].keys()))\n",
    "for i in estrategia[0].keys():\n",
    "    if vencedor[(0, i)] == 3:\n",
    "        print('+', end='')\n",
    "    else:\n",
    "        print('-', end='')\n",
    "    print(i, end=': ')\n",
    "    if vencedor[(1, estrategia[0][i])] == 3:\n",
    "        print('+', end='')\n",
    "    else:\n",
    "        print('-', end='')\n",
    "    print(estrategia[0][i])\n",
    "\n",
    "# imprime uma lista de jogadas\n",
    "# vez do 0 : vez do 1"
   ]
  },
  {
   "cell_type": "markdown",
   "metadata": {},
   "source": [
    "Repare que nem todas as configurações aparecem na tabela. Aquelas que não aparece são as configurações terminais."
   ]
  },
  {
   "cell_type": "code",
   "execution_count": 94,
   "metadata": {},
   "outputs": [
    {
     "name": "stdout",
     "output_type": "stream",
     "text": [
      "1\n",
      "...PB\n",
      "..P.B\n",
      "...PB\n",
      "\n"
     ]
    }
   ],
   "source": [
    "# 7979 não aparece na lista:\n",
    "print(terminal(7979))\n",
    "imprime_config(7979)"
   ]
  },
  {
   "cell_type": "code",
   "execution_count": 1,
   "metadata": {
    "init_cell": true
   },
   "outputs": [
    {
     "data": {
      "text/html": [
       "<!-- ESTA CÉLULA SERVE APENAS PARA FORMATAÇÃO DESTE ARQUIVO DE NOTEBOOK -->\n",
       "<style>\n",
       ".rendered_html h1 {\n",
       "    background-color: #555;\n",
       "    color: white;\n",
       "    padding: .5em;\n",
       "    // border-bottom: 2px solid #000;\n",
       "    // padding-bottom: .6em;\n",
       "    margin-bottom: 1em;\n",
       "}\n",
       "\n",
       ".rendered_html h1 code {\n",
       "    color: #EBB7C5;\n",
       "    background-color: rgba(0,0,0,0);\n",
       "}\n",
       "\n",
       ".rendered_html h2 {\n",
       "    border-bottom: 1px solid #333;\n",
       "    padding-bottom: .6em;\n",
       "}\n",
       "                                      \n",
       ".rendered_html h3 {\n",
       "    color: #034f84;\n",
       "}\n",
       "\n",
       ".rendered_html code  {\n",
       "    padding: 2px 4px;\n",
       "    font-size: 90%;\n",
       "    color: #c7254e;\n",
       "    background-color: #f9f2f4;\n",
       "    border-radius: 4px;\n",
       "}\n",
       "\n",
       ".rendered_html pre code {\n",
       "    padding: 0px;\n",
       "    font-size: 90%;\n",
       "    color: #c7254e;\n",
       "    background-color: rgba(0, 0, 0, 0);\n",
       "}\n",
       "\n",
       "kbd {\n",
       "    border-radius: 3px;  \n",
       "    padding: 2px, 3px;\n",
       "}\n",
       "\n",
       "body {\n",
       "    counter-reset: h1counter excounter;\n",
       "}\n",
       "h1:before {\n",
       "    content: counter(h1counter) \".\\0000a0\\0000a0\";\n",
       "    counter-increment: h1counter;\n",
       "}\n",
       "span.exec:before {\n",
       "    content: counter(excounter);\n",
       "    counter-increment: excounter;\n",
       "}\n",
       "\n",
       "\n",
       "</style>  "
      ],
      "text/plain": [
       "<IPython.core.display.HTML object>"
      ]
     },
     "metadata": {},
     "output_type": "display_data"
    }
   ],
   "source": [
    "%%html\n",
    "<!-- ESTA CÉLULA SERVE APENAS PARA FORMATAÇÃO DESTE ARQUIVO DE NOTEBOOK -->\n",
    "<style>\n",
    ".rendered_html h1 {\n",
    "    background-color: #555;\n",
    "    color: white;\n",
    "    padding: .5em;\n",
    "    // border-bottom: 2px solid #000;\n",
    "    // padding-bottom: .6em;\n",
    "    margin-bottom: 1em;\n",
    "}\n",
    "\n",
    ".rendered_html h1 code {\n",
    "    color: #EBB7C5;\n",
    "    background-color: rgba(0,0,0,0);\n",
    "}\n",
    "\n",
    ".rendered_html h2 {\n",
    "    border-bottom: 1px solid #333;\n",
    "    padding-bottom: .6em;\n",
    "}\n",
    "                                      \n",
    ".rendered_html h3 {\n",
    "    color: #034f84;\n",
    "}\n",
    "\n",
    ".rendered_html code  {\n",
    "    padding: 2px 4px;\n",
    "    font-size: 90%;\n",
    "    color: #c7254e;\n",
    "    background-color: #f9f2f4;\n",
    "    border-radius: 4px;\n",
    "}\n",
    "\n",
    ".rendered_html pre code {\n",
    "    padding: 0px;\n",
    "    font-size: 90%;\n",
    "    color: #c7254e;\n",
    "    background-color: rgba(0, 0, 0, 0);\n",
    "}\n",
    "\n",
    "kbd {\n",
    "    border-radius: 3px;  \n",
    "    padding: 2px, 3px;\n",
    "}\n",
    "\n",
    "body {\n",
    "    counter-reset: h1counter excounter;\n",
    "}\n",
    "h1:before {\n",
    "    content: counter(h1counter) \".\\0000a0\\0000a0\";\n",
    "    counter-increment: h1counter;\n",
    "}\n",
    "span.exec:before {\n",
    "    content: counter(excounter);\n",
    "    counter-increment: excounter;\n",
    "}\n",
    "\n",
    "\n",
    "</style>  "
   ]
  }
 ],
 "metadata": {
  "kernelspec": {
   "display_name": "Python 3",
   "language": "python",
   "name": "python3"
  },
  "language_info": {
   "codemirror_mode": {
    "name": "ipython",
    "version": 3
   },
   "file_extension": ".py",
   "mimetype": "text/x-python",
   "name": "python",
   "nbconvert_exporter": "python",
   "pygments_lexer": "ipython3",
   "version": "3.5.2"
  }
 },
 "nbformat": 4,
 "nbformat_minor": 2
}
